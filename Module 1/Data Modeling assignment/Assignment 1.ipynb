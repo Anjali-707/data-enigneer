{
 "cells": [
  {
   "cell_type": "markdown",
   "metadata": {
    "application/vnd.databricks.v1+cell": {
     "cellMetadata": {},
     "inputWidgets": {},
     "nuid": "58be3d79-d8f8-4e1c-8724-0697948c5e56",
     "showTitle": false,
     "tableResultSettingsMap": {},
     "title": ""
    }
   },
   "source": [
    "# 1. Entities list\n",
    "- Customer\n",
    "- Orders\n",
    "- Products\n",
    "\n",
    "# 2. Attributes list\n",
    "## 1. Customer\n",
    "- cust_id\n",
    "- first_name\n",
    "- last_name\n",
    "- city  \n",
    "## 2. Orders\n",
    "- ord_id\n",
    "- cust_id\n",
    "- ord_date\n",
    "- ord_quantity\n",
    "## 3. Products\n",
    "- Prod_id\n",
    "- ord_id\n",
    "- Prod_name\n",
    "- Prod_category\n",
    "\n",
    "\n",
    "# 3. Relationship\n",
    "- Customer placed order -customer table is joined with orders table based on cust_id  \n",
    "- to get both order and product details -  both tables are joined based on ord_id \n",
    "\n",
    "# 4. Primary keys\n",
    "- Customer table - cust_id \n",
    "- Orders table - ord_id\n",
    "- Products table - prod_id\n",
    "\n",
    "# 5. Foreign keys\n",
    "- Orders table - cust_id\n",
    "- Products table - ord_id"
   ]
  },
  {
   "cell_type": "code",
   "execution_count": 0,
   "metadata": {
    "application/vnd.databricks.v1+cell": {
     "cellMetadata": {},
     "inputWidgets": {},
     "nuid": "74eaf089-d61a-43ae-b9cb-2161ef88bfa0",
     "showTitle": false,
     "tableResultSettingsMap": {},
     "title": ""
    }
   },
   "outputs": [],
   "source": []
  }
 ],
 "metadata": {
  "application/vnd.databricks.v1+notebook": {
   "computePreferences": null,
   "dashboards": [],
   "environmentMetadata": {
    "base_environment": "",
    "environment_version": "2"
   },
   "inputWidgetPreferences": null,
   "language": "sql",
   "notebookMetadata": {
    "pythonIndentUnit": 4
   },
   "notebookName": "Assignment 1",
   "widgets": {}
  },
  "language_info": {
   "name": "sql"
  }
 },
 "nbformat": 4,
 "nbformat_minor": 0
}
