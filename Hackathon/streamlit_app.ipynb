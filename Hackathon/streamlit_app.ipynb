{
 "cells": [
  {
   "cell_type": "code",
   "execution_count": 0,
   "metadata": {
    "application/vnd.databricks.v1+cell": {
     "cellMetadata": {
      "byteLimit": 2048000,
      "rowLimit": 10000
     },
     "inputWidgets": {},
     "nuid": "960b8845-f6a8-4e86-a4f4-58eccfda02d2",
     "showTitle": false,
     "tableResultSettingsMap": {},
     "title": ""
    }
   },
   "outputs": [],
   "source": [
    "# # Use widgets to accept parameters (like API inputs)\n",
    "# dbutils.widgets.text(\"user_id\", \"\")\n",
    "# dbutils.widgets.text(\"skills\", \"\")\n",
    "# dbutils.widgets.text(\"aspirations\", \"\")\n",
    "# dbutils.widgets.text(\"challenges\", \"\")\n",
    "\n",
    "# # Get values from widgets\n",
    "# user_id = dbutils.widgets.get(\"user_id\")\n",
    "# skills = dbutils.widgets.get(\"skills\")\n",
    "# aspirations = dbutils.widgets.get(\"aspirations\")\n",
    "# challenges = dbutils.widgets.get(\"challenges\")\n",
    "\n",
    "# # Create a DataFrame\n",
    "# data = [(user_id, skills, aspirations, challenges)]\n",
    "# columns = [\"user_id\", \"skills\", \"aspirations\", \"challenges\"]\n",
    "# df = spark.createDataFrame(data, columns)\n",
    "\n",
    "# # Write to Delta table\n",
    "# df.write.mode(\"append\").saveAsTable(\"employee_inputs_19th_aug_temp_anj\")\n"
   ]
  },
  {
   "cell_type": "code",
   "execution_count": 0,
   "metadata": {
    "application/vnd.databricks.v1+cell": {
     "cellMetadata": {
      "byteLimit": 2048000,
      "rowLimit": 10000
     },
     "inputWidgets": {},
     "nuid": "e915bfe6-aec3-4784-828b-f163345c82fc",
     "showTitle": false,
     "tableResultSettingsMap": {},
     "title": ""
    }
   },
   "outputs": [],
   "source": [
    "pip install streamlit databricks-connect pyspark\n"
   ]
  },
  {
   "cell_type": "code",
   "execution_count": 0,
   "metadata": {
    "application/vnd.databricks.v1+cell": {
     "cellMetadata": {},
     "inputWidgets": {},
     "nuid": "40cb602e-1c2b-4802-93ae-7e0e33fab9c3",
     "showTitle": false,
     "tableResultSettingsMap": {},
     "title": ""
    }
   },
   "outputs": [],
   "source": [
    "# databricks-connect to allow your Streamlit app to talk to Databricks\n",
    "databricks-connect configure\n"
   ]
  },
  {
   "cell_type": "code",
   "execution_count": 0,
   "metadata": {
    "application/vnd.databricks.v1+cell": {
     "cellMetadata": {},
     "inputWidgets": {},
     "nuid": "138eac02-eaa0-4419-90ef-1f0d088b7ca2",
     "showTitle": false,
     "tableResultSettingsMap": {},
     "title": ""
    }
   },
   "outputs": [],
   "source": [
    "import streamlit as st\n",
    "from pyspark.sql import SparkSession\n",
    "\n",
    "# Initialize Spark session\n",
    "spark = SparkSession.builder.appName(\"CareerPathInput\").getOrCreate()\n",
    "\n",
    "st.title(\"Career Suggestion Input Form\")\n",
    "\n",
    "# Form fields\n",
    "email_id = st.text_input(\"Email ID\")\n",
    "skills = st.text_area(\"Skills\")\n",
    "aspirations = st.text_area(\"Aspirations\")\n",
    "challenges = st.text_area(\"Challenges\")\n",
    "\n",
    "if st.button(\"Submit\"):\n",
    "    # Create DataFrame\n",
    "    data = [(email_id, skills, aspirations, challenges)]\n",
    "    columns = [\"email_id\", \"skills\", \"aspirations\", \"challenges\"]\n",
    "    df = spark.createDataFrame(data, columns)\n",
    "\n",
    "    # Write to Delta table\n",
    "    df.write.mode(\"append\").saveAsTable(\"employee_inputs_19th_aug_temp_anj\")\n",
    "\n",
    "    st.success(\"Your input has been submitted successfully!\")\n",
    "\n",
    "\n",
    "# run the app\n",
    "streamlit run app.py\n",
    "\n"
   ]
  }
 ],
 "metadata": {
  "application/vnd.databricks.v1+notebook": {
   "computePreferences": {
    "hardware": {
     "accelerator": null,
     "gpuPoolId": null,
     "memory": null
    }
   },
   "dashboards": [],
   "environmentMetadata": {
    "base_environment": "",
    "environment_version": "2"
   },
   "inputWidgetPreferences": null,
   "language": "python",
   "notebookMetadata": {
    "pythonIndentUnit": 4
   },
   "notebookName": "streamlit_app",
   "widgets": {}
  },
  "language_info": {
   "name": "python"
  }
 },
 "nbformat": 4,
 "nbformat_minor": 0
}
