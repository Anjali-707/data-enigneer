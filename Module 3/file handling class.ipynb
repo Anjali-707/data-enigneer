{
 "cells": [
  {
   "cell_type": "code",
   "execution_count": 0,
   "metadata": {
    "application/vnd.databricks.v1+cell": {
     "cellMetadata": {
      "byteLimit": 2048000,
      "rowLimit": 10000
     },
     "inputWidgets": {},
     "nuid": "41cf70d3-0c3d-4e22-943d-54adf88a97eb",
     "showTitle": false,
     "tableResultSettingsMap": {},
     "title": ""
    }
   },
   "outputs": [],
   "source": [
    "import csv\n",
    "#use to open a file in different modes\n",
    "with open('/Workspace/Users/kumari707anjali@gmail.com/data-enigneer/Module 3/global_food_wastage_dataset.csv', mode='r') as file:\n",
    "\n",
    "#use to read the file\n",
    "    reader = csv.reader(file)\n",
    "\n",
    "#skip the header\n",
    "    next(reader)\n",
    "#print each rows\n",
    "    for row in reader:\n",
    "        print(row)\n",
    "       "
   ]
  },
  {
   "cell_type": "code",
   "execution_count": 0,
   "metadata": {
    "application/vnd.databricks.v1+cell": {
     "cellMetadata": {
      "byteLimit": 2048000,
      "rowLimit": 10000
     },
     "inputWidgets": {},
     "nuid": "a766045a-ad08-494c-a708-c36300ac2417",
     "showTitle": false,
     "tableResultSettingsMap": {},
     "title": ""
    }
   },
   "outputs": [],
   "source": [
    "import csv\n",
    "#use to open a file in different modes\n",
    "with open('/Workspace/Users/kumari707anjali@gmail.com/data-enigneer/Module 3/global_food_wastage_dataset.csv', mode='r') as file:\n",
    "\n",
    "#use to read the file as dictionary\n",
    "    reader = csv.DictReader(file)\n",
    "\n",
    "#print each rows\n",
    "    for row in reader:\n",
    "        print(row['Country'])"
   ]
  },
  {
   "cell_type": "code",
   "execution_count": 0,
   "metadata": {
    "application/vnd.databricks.v1+cell": {
     "cellMetadata": {
      "byteLimit": 2048000,
      "rowLimit": 10000
     },
     "inputWidgets": {},
     "nuid": "750d3f21-7cd8-4cd2-a238-d4928d5b4dc3",
     "showTitle": false,
     "tableResultSettingsMap": {},
     "title": ""
    }
   },
   "outputs": [],
   "source": [
    "with open('temp1.csv',mode='w',newline='') as file:\n",
    "    writer= csv.writer(file)\n",
    "    writer.writerow('anjali')\n",
    "    writer.writerow(['anjali','India'])"
   ]
  },
  {
   "cell_type": "code",
   "execution_count": 0,
   "metadata": {
    "application/vnd.databricks.v1+cell": {
     "cellMetadata": {
      "byteLimit": 2048000,
      "rowLimit": 10000
     },
     "inputWidgets": {},
     "nuid": "85c5f234-5180-4959-9b24-427e87f13f22",
     "showTitle": false,
     "tableResultSettingsMap": {},
     "title": ""
    }
   },
   "outputs": [],
   "source": [
    "with open('Log file to check error',mode='r') as file:\n",
    "    count = 0\n",
    "    for line in file:\n",
    "        if 'Error' in line:\n",
    "            print(f\"Alert on line number:{count}--->{line.strip()}\")\n",
    "        count+=1\n"
   ]
  },
  {
   "cell_type": "code",
   "execution_count": 0,
   "metadata": {
    "application/vnd.databricks.v1+cell": {
     "cellMetadata": {},
     "inputWidgets": {},
     "nuid": "5e083766-bd78-4476-892c-0f2e1ac4433f",
     "showTitle": false,
     "tableResultSettingsMap": {},
     "title": ""
    }
   },
   "outputs": [],
   "source": []
  }
 ],
 "metadata": {
  "application/vnd.databricks.v1+notebook": {
   "computePreferences": null,
   "dashboards": [],
   "environmentMetadata": {
    "base_environment": "",
    "environment_version": "2"
   },
   "inputWidgetPreferences": null,
   "language": "python",
   "notebookMetadata": {
    "pythonIndentUnit": 4
   },
   "notebookName": "file handling class",
   "widgets": {}
  },
  "language_info": {
   "name": "python"
  }
 },
 "nbformat": 4,
 "nbformat_minor": 0
}
