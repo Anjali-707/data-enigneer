{
 "cells": [
  {
   "cell_type": "code",
   "execution_count": 0,
   "metadata": {
    "application/vnd.databricks.v1+cell": {
     "cellMetadata": {
      "byteLimit": 2048000,
      "rowLimit": 10000
     },
     "inputWidgets": {},
     "nuid": "82198442-89bc-4d55-b8ed-ad01e80ab450",
     "showTitle": false,
     "tableResultSettingsMap": {},
     "title": ""
    }
   },
   "outputs": [],
   "source": [
    "# 1. try except block to handle the error \n",
    "\n",
    "import csv\n",
    "try:\n",
    "    with open('/Workspace/Users/kumari707anjali@gmail.com/data-enigneer/Module 3/customers.csv', mode='r') as file:\n",
    "        reader=csv.reader(file)\n",
    "        # count = 1\n",
    "        \n",
    "        for row_nm,row in enumerate(reader,start=1):\n",
    "            try:\n",
    "                print(f'{row_nm}. {row}')\n",
    "            except ValueError as e:\n",
    "                print(f'error on line: {row_nm}{e}{row.strip()}')\n",
    "except FileNotFoundError:\n",
    "    print('File not found')"
   ]
  },
  {
   "cell_type": "code",
   "execution_count": 0,
   "metadata": {
    "application/vnd.databricks.v1+cell": {
     "cellMetadata": {
      "byteLimit": 2048000,
      "rowLimit": 10000
     },
     "inputWidgets": {},
     "nuid": "40963dac-ce4d-4790-a55b-46dcc850e82d",
     "showTitle": false,
     "tableResultSettingsMap": {},
     "title": ""
    }
   },
   "outputs": [],
   "source": [
    "# 3. Append the last row as new record in the same csv file\n",
    "\n",
    "with open('/Workspace/Users/kumari707anjali@gmail.com/data-enigneer/Module 3/customers.csv', mode='a') as file:\n",
    "    writer = csv.writer(file)\n",
    "    writer = writer.writerow(['COO4','Anjali','Noida','2000'])\n",
    "reader = csv.reader(open('/Workspace/Users/kumari707anjali@gmail.com/data-enigneer/Module 3/customers.csv', mode='r'))\n",
    "for row in reader:\n",
    "    print(row)"
   ]
  },
  {
   "cell_type": "code",
   "execution_count": 0,
   "metadata": {
    "application/vnd.databricks.v1+cell": {
     "cellMetadata": {
      "byteLimit": 2048000,
      "rowLimit": 10000
     },
     "inputWidgets": {},
     "nuid": "3a2682ed-d1e4-49f3-8fc4-8b11dbe75b64",
     "showTitle": false,
     "tableResultSettingsMap": {},
     "title": ""
    }
   },
   "outputs": [],
   "source": [
    "import logging\n",
    "logging.basicConfig(filename='customers_data.log',level=logging.INFO)\n",
    "logging.info('Successful reading/writing file')"
   ]
  },
  {
   "cell_type": "code",
   "execution_count": 0,
   "metadata": {
    "application/vnd.databricks.v1+cell": {
     "cellMetadata": {},
     "inputWidgets": {},
     "nuid": "4c7b99d4-3023-4645-99a9-400636117cbe",
     "showTitle": false,
     "tableResultSettingsMap": {},
     "title": ""
    }
   },
   "outputs": [],
   "source": []
  }
 ],
 "metadata": {
  "application/vnd.databricks.v1+notebook": {
   "computePreferences": null,
   "dashboards": [],
   "environmentMetadata": {
    "base_environment": "",
    "environment_version": "2"
   },
   "inputWidgetPreferences": null,
   "language": "python",
   "notebookMetadata": {
    "pythonIndentUnit": 4
   },
   "notebookName": "Assignment 2",
   "widgets": {}
  },
  "language_info": {
   "name": "python"
  }
 },
 "nbformat": 4,
 "nbformat_minor": 0
}
