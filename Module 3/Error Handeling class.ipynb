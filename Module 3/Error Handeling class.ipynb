{
 "cells": [
  {
   "cell_type": "code",
   "execution_count": 0,
   "metadata": {
    "application/vnd.databricks.v1+cell": {
     "cellMetadata": {
      "byteLimit": 2048000,
      "rowLimit": 10000
     },
     "inputWidgets": {},
     "nuid": "ab578a30-ee03-451d-8bd3-1e9e937a5535",
     "showTitle": false,
     "tableResultSettingsMap": {},
     "title": ""
    }
   },
   "outputs": [],
   "source": [
    "try:\n",
    "    marks= int(input('Enter your marks'))\n",
    "    print(f'final marks ={marks/2}')\n",
    "except ZeroDivisionError:\n",
    "    print('cannot divide by zero')\n",
    "except ValueError:\n",
    "    print('please enter a valid number')\n",
    "finally:\n",
    "    print('task complete')"
   ]
  },
  {
   "cell_type": "code",
   "execution_count": 0,
   "metadata": {
    "application/vnd.databricks.v1+cell": {
     "cellMetadata": {
      "byteLimit": 2048000,
      "rowLimit": 10000
     },
     "inputWidgets": {},
     "nuid": "4beb2d8d-8cc1-4df7-9ec3-299c9264753b",
     "showTitle": false,
     "tableResultSettingsMap": {},
     "title": ""
    }
   },
   "outputs": [],
   "source": [
    "try:\n",
    "    Sub_A = int(input('enter sub_A marks'))\n",
    "    Sub_B = int(input('enter sub_B marks'))\n",
    "    final_marks = Sub_A/Sub_B\n",
    "except ZeroDivisionError:\n",
    "    print('cannot divide by zero')\n",
    "except ValueError:\n",
    "    print('please enter a valid number')\n",
    "else:\n",
    "    print(final_marks)\n",
    "finally:\n",
    "    print('task completed')"
   ]
  },
  {
   "cell_type": "code",
   "execution_count": 0,
   "metadata": {
    "application/vnd.databricks.v1+cell": {
     "cellMetadata": {
      "byteLimit": 2048000,
      "rowLimit": 10000
     },
     "inputWidgets": {},
     "nuid": "45c2aaf1-e2c6-47cc-81d3-63a59c025755",
     "showTitle": false,
     "tableResultSettingsMap": {},
     "title": ""
    }
   },
   "outputs": [],
   "source": []
  }
 ],
 "metadata": {
  "application/vnd.databricks.v1+notebook": {
   "computePreferences": null,
   "dashboards": [],
   "environmentMetadata": {
    "base_environment": "",
    "environment_version": "2"
   },
   "inputWidgetPreferences": null,
   "language": "python",
   "notebookMetadata": {
    "pythonIndentUnit": 4
   },
   "notebookName": "Error Handeling class",
   "widgets": {}
  },
  "language_info": {
   "name": "python"
  }
 },
 "nbformat": 4,
 "nbformat_minor": 0
}
